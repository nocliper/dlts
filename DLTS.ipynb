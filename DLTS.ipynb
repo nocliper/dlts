{
 "cells": [
  {
   "cell_type": "code",
   "execution_count": 1,
   "metadata": {},
   "outputs": [],
   "source": [
    "import matplotlib.pyplot as plt \n",
    "import numpy as np\n",
    "from IPython.display import set_matplotlib_formats\n",
    "\n",
    "import sys\n",
    "sys.path.append('functions/')\n",
    "\n",
    "%matplotlib inline\n",
    "set_matplotlib_formats('svg')\n",
    "plt.rcParams[\"font.family\"] = \"serif\"\n",
    "plt.rcParams[\"mathtext.fontset\"] = \"dejavuserif\""
   ]
  },
  {
   "cell_type": "code",
   "execution_count": 2,
   "metadata": {},
   "outputs": [],
   "source": [
    "def demo(n_windows, X, Bounds, dt, Plot, Extrema, Material, Doping):\n",
    "    \"\"\" dfa\"\"\"\n",
    "    import matplotlib.pyplot as plt \n",
    "    from matplotlib import cm\n",
    "    import numpy as np\n",
    "    from material import material\n",
    "    from load_data import load_data\n",
    "    from time_windows import time_windows\n",
    "    from dlts_plot import dlts_plot\n",
    "    from find_min import find_min\n",
    "    from find_max import find_max\n",
    "    \n",
    "    fig, axs = plt.subplots(1, 2)\n",
    "    fig.set_size_inches(12,5)\n",
    "    axs[0].set_title(\"Transient\")\n",
    "    axs[1].set_title(\"DLTS\")\n",
    "    \n",
    "    \n",
    "    \n",
    "    A_e, A_h = material(Material)\n",
    "    T, Time, C = load_data(path, dt)\n",
    "    T1, T2, = time_windows(n_windows, X, Time, C, axs[0])\n",
    "    DLTS = dlts_plot(T, Time, C, T1, T2, n_windows, axs[1])\n",
    "    \n",
    "    \n",
    "    if Plot:\n",
    "        if Extrema == 'Max':\n",
    "            find_max(Bounds[0], Bounds[1], DLTS, T, Time, T1, T2, X, n_windows, Doping, A_h)\n",
    "\n",
    "        elif Extrema == 'Min':\n",
    "            find_min(Bounds[0], Bounds[1], DLTS, T, Time, T1, T2, X, n_windows, Doping, A_e)\n"
   ]
  },
  {
   "cell_type": "code",
   "execution_count": 3,
   "metadata": {},
   "outputs": [],
   "source": [
    "def interface(path):\n",
    "    '''Initiates widgets'''\n",
    "    \n",
    "    from ipywidgets import interact, interactive, fixed, interact_manual, HBox, VBox, Label\n",
    "    import ipywidgets as widgets\n",
    " \n",
    "    Material = widgets.Select(\n",
    "        options = ['Ga2O3', 'GaN'],\n",
    "        value   = 'Ga2O3',\n",
    "        description = 'Material:',\n",
    "        disabled = False)\n",
    "    \n",
    "    Doping = widgets.BoundedFloatText(\n",
    "        value=2.5E15,\n",
    "        min=1E5,\n",
    "        max=1E22,\n",
    "        step=0.1,\n",
    "        description=r'Doping $cm^{-3}$:',\n",
    "        disabled=False)\n",
    "    \n",
    "    dt = widgets.BoundedIntText(\n",
    "        value=150,\n",
    "        min=15,\n",
    "        max=350,\n",
    "        step=1,\n",
    "        description='Time step',\n",
    "        disabled=False)\n",
    "\n",
    "    \n",
    "    n_windows = widgets.BoundedIntText(\n",
    "        value=10,\n",
    "        min= 2, # max exponent of base\n",
    "        max= 50, # min exponent of base\n",
    "        step=1, # exponent step\n",
    "        description='№ of windows')\n",
    "\n",
    "    X = widgets.IntSlider(\n",
    "        value= 5,\n",
    "        min=2, #\n",
    "        max=30, # \n",
    "        step=1, # \n",
    "        description=r'$t_2/t_1 = $')\n",
    "\n",
    "    Bounds = widgets.FloatRangeSlider(\n",
    "        value=[200, 500],\n",
    "        min=200,\n",
    "        max=500,\n",
    "        step=1,\n",
    "        description=r'T for peaks:',)\n",
    "\n",
    "    Plot = widgets.ToggleButton(\n",
    "        value = False,\n",
    "        button_style='info',\n",
    "        description = 'Plot arrhenius?',\n",
    "        disabled = False,\n",
    "        icon='plus')\n",
    "    \n",
    "    Extrema = widgets.Select(\n",
    "        options = ['Max', 'Min'],\n",
    "        value   = 'Max',\n",
    "        description = 'Extrema:',\n",
    "        disabled = False)\n",
    "\n",
    "    left_box = VBox([Material, Doping])\n",
    "    center_box = VBox([dt, n_windows, X])\n",
    "    right_box = VBox([Extrema, Bounds, Plot])\n",
    "    ui = widgets.HBox([left_box, center_box, right_box])\n",
    "    out = widgets.interactive_output(demo, {'n_windows':n_windows, 'X':X, 'Bounds':Bounds, 'dt':dt, 'Doping':Doping,\n",
    "                                            'Plot':Plot, 'Extrema':Extrema, 'Material':Material })\n",
    "    display(ui, out)\n"
   ]
  },
  {
   "cell_type": "code",
   "execution_count": null,
   "metadata": {},
   "outputs": [],
   "source": []
  },
  {
   "cell_type": "code",
   "execution_count": null,
   "metadata": {},
   "outputs": [],
   "source": []
  },
  {
   "cell_type": "code",
   "execution_count": 4,
   "metadata": {},
   "outputs": [
    {
     "data": {
      "application/vnd.jupyter.widget-view+json": {
       "model_id": "70bc7a8d022b48dca623c20205589d4d",
       "version_major": 2,
       "version_minor": 0
      },
      "text/plain": [
       "HBox(children=(VBox(children=(Select(description='Material:', options=('Ga2O3', 'GaN'), value='Ga2O3'), Bounde…"
      ]
     },
     "metadata": {},
     "output_type": "display_data"
    },
    {
     "data": {
      "application/vnd.jupyter.widget-view+json": {
       "model_id": "94f361e9bb034f83b83b2174c6197d45",
       "version_major": 2,
       "version_minor": 0
      },
      "text/plain": [
       "Output()"
      ]
     },
     "metadata": {},
     "output_type": "display_data"
    }
   ],
   "source": [
    "path = 'data/EUNB29b_1-16-2/EUNB29b_1-16-2_150_8.DLTS'\n",
    "interface(path)"
   ]
  },
  {
   "cell_type": "code",
   "execution_count": null,
   "metadata": {},
   "outputs": [],
   "source": []
  }
 ],
 "metadata": {
  "kernelspec": {
   "display_name": "Python 3",
   "language": "python",
   "name": "python3"
  },
  "language_info": {
   "codemirror_mode": {
    "name": "ipython",
    "version": 3
   },
   "file_extension": ".py",
   "mimetype": "text/x-python",
   "name": "python",
   "nbconvert_exporter": "python",
   "pygments_lexer": "ipython3",
   "version": "3.7.4"
  }
 },
 "nbformat": 4,
 "nbformat_minor": 2
}
