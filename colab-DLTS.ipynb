{
 "cells": [
  {
   "cell_type": "code",
   "execution_count": 1,
   "metadata": {
    "slideshow": {
     "slide_type": "slide"
    }
   },
   "outputs": [
    {
     "name": "stderr",
     "output_type": "stream",
     "text": [
      "/var/folders/ff/04h1dxz91_x338dywxmfv1_w0000gn/T/ipykernel_92689/2983194245.py:10: DeprecationWarning: `set_matplotlib_formats` is deprecated since IPython 7.23, directly use `matplotlib_inline.backend_inline.set_matplotlib_formats()`\n",
      "  set_matplotlib_formats('svg')\n"
     ]
    }
   ],
   "source": [
    "import matplotlib.pyplot as plt \n",
    "import numpy as np\n",
    "from IPython.display import set_matplotlib_formats\n",
    "\n",
    "import sys\n",
    "sys.path.append('functions/')\n",
    "\n",
    "%matplotlib inline\n",
    "\n",
    "set_matplotlib_formats('svg')\n",
    "plt.rcParams[\"font.family\"] = \"serif\"\n",
    "plt.rcParams[\"mathtext.fontset\"] = \"dejavuserif\""
   ]
  },
  {
   "cell_type": "markdown",
   "metadata": {
    "slideshow": {
     "slide_type": "slide"
    }
   },
   "source": [
    "# File browser"
   ]
  },
  {
   "cell_type": "code",
   "execution_count": 2,
   "metadata": {
    "slideshow": {
     "slide_type": "slide"
    }
   },
   "outputs": [
    {
     "data": {
      "application/vnd.jupyter.widget-view+json": {
       "model_id": "ab3ba5fdc2024af4b0e1141323568c2d",
       "version_major": 2,
       "version_minor": 0
      },
      "text/plain": [
       "VBox(children=(HTML(value='<h2>/Users/antonvasilev/GitHub/dlts</h2>'), Button(button_style='primary', descript…"
      ]
     },
     "metadata": {},
     "output_type": "display_data"
    }
   ],
   "source": [
    "from filebrowser import FileBrowser\n",
    "File = FileBrowser()\n",
    "display(File.widget())\n",
    "\n",
    "path = File.path"
   ]
  },
  {
   "cell_type": "markdown",
   "metadata": {
    "slideshow": {
     "slide_type": "slide"
    }
   },
   "source": [
    "# Functions"
   ]
  },
  {
   "cell_type": "code",
   "execution_count": 3,
   "metadata": {
    "slideshow": {
     "slide_type": "slide"
    }
   },
   "outputs": [],
   "source": [
    "def demo(n_windows, X, Bounds, dt, Plot, Extrema, Material, Doping, Smooth):\n",
    "    \"\"\" dfa\"\"\"\n",
    "    import matplotlib.pyplot as plt \n",
    "    from matplotlib import cm\n",
    "    import numpy as np\n",
    "    from pandas import DataFrame\n",
    "    from material import material\n",
    "    from load_data import load_data\n",
    "    from time_windows import time_windows\n",
    "    from dlts_plot import dlts_plot\n",
    "    from find_min import find_min\n",
    "    from find_max import find_max\n",
    "    \n",
    "    axs = []\n",
    "    fig = plt.figure()\n",
    "    fig.set_size_inches(10,7)\n",
    "\n",
    "    axs.append(plt.subplot(211))\n",
    "    axs.append(plt.subplot(223))\n",
    "    axs.append(plt.subplot(224))\n",
    "    axs[2].set_title(\"Transient\")\n",
    "    axs[0].set_title(\"DLTS\")\n",
    "    \n",
    "    \n",
    "    \n",
    "    A_e, A_h = material(Material)\n",
    "    T, Time, C = load_data(File.path, dt)\n",
    "    T1, T2, = time_windows(n_windows, X, Time, C, axs[2])\n",
    "    DLTS = dlts_plot(T, Time, C, T1, T2, n_windows, axs[0], Smooth, Bounds)\n",
    "    \n",
    "    \n",
    "    if Plot:\n",
    "        if Extrema == 'Max':\n",
    "            find_max(Bounds[0], Bounds[1], DLTS, T, Time, T1, T2, X, n_windows, Doping, A_e, axs[0], axs[1])\n",
    "\n",
    "        elif Extrema == 'Min':\n",
    "            find_min(Bounds[0], Bounds[1], DLTS, T, Time, T1, T2, X, n_windows, Doping, A_h, axs[0], axs[1])\n",
    "            \n",
    "    np.savetxt('Signal.csv', DLTS, delimiter=',')\n",
    "    np.savetxt('Temp.csv', np.array(T).T, delimiter=',')\n",
    "    \n",
    "    Time = np.asarray(Time)\n",
    "    T1   = np.asarray(T1)\n",
    "    T2   = np.asarray(T2)\n",
    "    tau  = (Time[T2]-Time[T1])/np.log(X)\n",
    "    \n",
    "    np.savetxt('Time.csv', tau[:-1], delimiter=',')\n"
   ]
  },
  {
   "cell_type": "code",
   "execution_count": 4,
   "metadata": {
    "slideshow": {
     "slide_type": "slide"
    }
   },
   "outputs": [],
   "source": [
    "def interface():\n",
    "    '''Initiates widgets'''\n",
    "    \n",
    "    from ipywidgets import interact, interactive, fixed, interact_manual, HBox, VBox, Label\n",
    "    import ipywidgets as widgets\n",
    " \n",
    "    Material = widgets.Select(\n",
    "        options = ['Ga2O3', 'GaN'],\n",
    "        value   = 'Ga2O3',\n",
    "        description = 'Material:',\n",
    "        disabled = False)\n",
    "    \n",
    "    Doping = widgets.BoundedFloatText(\n",
    "        value=2.5E18,\n",
    "        min=1E8,\n",
    "        max=1E22,\n",
    "        step=1,\n",
    "        description=r'Doping $cm^{-3}$:',\n",
    "        disabled=False)\n",
    "    \n",
    "    dt = widgets.BoundedIntText(\n",
    "        value=150,\n",
    "        min=15,\n",
    "        max=350,\n",
    "        step=1,\n",
    "        description='Time step',\n",
    "        disabled=False)\n",
    "\n",
    "    \n",
    "    n_windows = widgets.BoundedIntText(\n",
    "        value=2,\n",
    "        min= 2, \n",
    "        max= 100, \n",
    "        step=1, \n",
    "        description='№ of windows')\n",
    "\n",
    "    X = widgets.IntSlider(\n",
    "        value= 10,\n",
    "        min=2, #\n",
    "        max=20, # \n",
    "        step=1, # \n",
    "        description=r'$t_2/t_1 = $')\n",
    "\n",
    "    Bounds = widgets.FloatRangeSlider(\n",
    "        value=[200, 300],\n",
    "        min=75,\n",
    "        max=550,\n",
    "        step=1,\n",
    "        description=r'T for peaks:',)\n",
    "\n",
    "    Plot = widgets.ToggleButton(\n",
    "        value = False,\n",
    "        button_style='info',\n",
    "        description = 'Plot arrhenius?',\n",
    "        disabled = False,\n",
    "        icon='plus')\n",
    "    \n",
    "    Extrema = widgets.Select(\n",
    "        options = ['Max', 'Min'],\n",
    "        value   = 'Max',\n",
    "        description = 'Extrema:',\n",
    "        disabled = False)\n",
    "    \n",
    "    Smooth = widgets.BoundedIntText(\n",
    "        value=1,\n",
    "        min= 1, \n",
    "        max= 23, \n",
    "        step=2, \n",
    "        description='Smoothing')\n",
    "\n",
    "    left_box = VBox([Material, Doping])\n",
    "    center_box = VBox([dt, n_windows, X, Smooth])\n",
    "    right_box = VBox([Extrema, Bounds, Plot])\n",
    "    ui = widgets.HBox([left_box, center_box, right_box])\n",
    "    out = widgets.interactive_output(demo, {'n_windows':n_windows, 'X':X, 'Bounds':Bounds, 'dt':dt, 'Doping':Doping,\n",
    "                                            'Plot':Plot, 'Extrema':Extrema, 'Material':Material, 'Smooth':Smooth})\n",
    "    display(ui, out)\n"
   ]
  },
  {
   "cell_type": "code",
   "execution_count": 5,
   "metadata": {
    "slideshow": {
     "slide_type": "slide"
    }
   },
   "outputs": [
    {
     "data": {
      "application/vnd.jupyter.widget-view+json": {
       "model_id": "2d89053d56cd4893a2146f374805c316",
       "version_major": 2,
       "version_minor": 0
      },
      "text/plain": [
       "HBox(children=(VBox(children=(Select(description='Material:', options=('Ga2O3', 'GaN'), value='Ga2O3'), Bounde…"
      ]
     },
     "metadata": {},
     "output_type": "display_data"
    },
    {
     "data": {
      "application/vnd.jupyter.widget-view+json": {
       "model_id": "3b2964e70e1b45f5a8012b9d63444ca6",
       "version_major": 2,
       "version_minor": 0
      },
      "text/plain": [
       "Output()"
      ]
     },
     "metadata": {},
     "output_type": "display_data"
    }
   ],
   "source": [
    "interface()"
   ]
  },
  {
   "cell_type": "code",
   "execution_count": null,
   "metadata": {
    "slideshow": {
     "slide_type": "skip"
    }
   },
   "outputs": [],
   "source": []
  },
  {
   "cell_type": "code",
   "execution_count": null,
   "metadata": {
    "slideshow": {
     "slide_type": "slide"
    }
   },
   "outputs": [],
   "source": [
    "Eg = 4.85 #eV\n",
    "Ts = ['E1',  'E2*',   'E2',    'E3',    'E8'] #\n",
    "Ns = [7.28E12, 4.61E13, 5.98E13, 3.77E13,    2.45E12] # cm-3\n",
    "Es = [0.71,   0.76,  0.85,    1.049,    0.344] # Ec-Et, eV"
   ]
  },
  {
   "cell_type": "code",
   "execution_count": null,
   "metadata": {
    "slideshow": {
     "slide_type": "skip"
    }
   },
   "outputs": [],
   "source": [
    "from band_plot import band_plot\n",
    "band_plot(Eg, Ts, Ns, Es, size = 12, thick = 0.05, border = 0.085)"
   ]
  },
  {
   "cell_type": "code",
   "execution_count": null,
   "metadata": {},
   "outputs": [],
   "source": []
  }
 ],
 "metadata": {
  "kernelspec": {
   "display_name": "Python 3 (ipykernel)",
   "language": "python",
   "name": "python3"
  },
  "language_info": {
   "codemirror_mode": {
    "name": "ipython",
    "version": 3
   },
   "file_extension": ".py",
   "mimetype": "text/x-python",
   "name": "python",
   "nbconvert_exporter": "python",
   "pygments_lexer": "ipython3",
   "version": "3.9.12"
  }
 },
 "nbformat": 4,
 "nbformat_minor": 2
}
