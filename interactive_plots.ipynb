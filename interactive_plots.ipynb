{
 "cells": [
  {
   "cell_type": "code",
   "execution_count": 1,
   "metadata": {},
   "outputs": [
    {
     "data": {
      "image/png": "[encoded data removed]",
      "text/plain": [
       "<Figure size 432x288 with 1 Axes>"
      ]
     },
     "metadata": {
      "needs_background": "light"
     },
     "output_type": "display_data"
    }
   ],
   "source": [
    "import matplotlib.pyplot as plt\n",
    "\n",
    "\n",
    "class LineDrawer(object):\n",
    "    lines = []\n",
    "    def draw_line(self, startx,starty):\n",
    "        ax = plt.gca()\n",
    "        xy = plt.ginput(1)\n",
    "        x = [startx,xy[0][0]]\n",
    "        y = [starty,xy[0][1]]\n",
    "        line = plt.plot(x,y)\n",
    "        ax.figure.canvas.draw()\n",
    "\n",
    "        self.lines.append(line)\n",
    "\n",
    "\n",
    "def onclick(event):\n",
    "    if event.dblclick:\n",
    "        if event.button == 1:\n",
    "            # Draw line\n",
    "            ld = LineDrawer()\n",
    "            ld.draw_line(event.xdata,event.ydata) # here you click on the plot\n",
    "        elif event.button == 3:\n",
    "            # Write to figure\n",
    "            plt.figtext(3, 8, 'boxed italics text in data coords', style='italic', bbox={'facecolor':'red', 'alpha':0.5, 'pad':10})\n",
    "            circ = plt.Circle((event.xdata, event.ydata), radius=0.07, color='g')\n",
    "            ax.add_patch(circ)\n",
    "            ax.figure.canvas.draw()\n",
    "        else:\n",
    "            pass # Do nothing\n",
    "\n",
    "\n",
    "def onpick(event):\n",
    "    thisline = event.artist\n",
    "    xdata = thisline.get_xdata()\n",
    "    ydata = thisline.get_ydata()\n",
    "    ind = event.ind\n",
    "    print ('onpick points:', zip(xdata[ind], ydata[ind]))\n",
    "\n",
    "\n",
    "\n",
    "fig, ax = plt.subplots()\n",
    "\n",
    "connection_id = fig.canvas.mpl_connect('button_press_event', onclick)\n",
    "fig.canvas.mpl_connect('pick_event', onpick)\n",
    "\n",
    "\n",
    "plt.tight_layout()\n",
    "\n",
    "plt.show()"
   ]
  },
  {
   "cell_type": "code",
   "execution_count": null,
   "metadata": {},
   "outputs": [],
   "source": []
  },
  {
   "cell_type": "code",
   "execution_count": null,
   "metadata": {},
   "outputs": [],
   "source": []
  }
 ],
 "metadata": {
  "kernelspec": {
   "display_name": "Python 3",
   "language": "python",
   "name": "python3"
  },
  "language_info": {
   "codemirror_mode": {
    "name": "ipython",
    "version": 3
   },
   "file_extension": ".py",
   "mimetype": "text/x-python",
   "name": "python",
   "nbconvert_exporter": "python",
   "pygments_lexer": "ipython3",
   "version": "3.7.9"
  }
 },
 "nbformat": 4,
 "nbformat_minor": 4
}
